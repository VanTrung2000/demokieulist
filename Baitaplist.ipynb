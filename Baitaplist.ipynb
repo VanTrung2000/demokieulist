{
  "nbformat": 4,
  "nbformat_minor": 0,
  "metadata": {
    "colab": {
      "name": "Baitaplist.ipynb",
      "provenance": [],
      "collapsed_sections": [],
      "authorship_tag": "ABX9TyOC4sQjK51eXhVHRHEsRvzC",
      "include_colab_link": true
    },
    "kernelspec": {
      "name": "python3",
      "display_name": "Python 3"
    }
  },
  "cells": [
    {
      "cell_type": "markdown",
      "metadata": {
        "id": "view-in-github",
        "colab_type": "text"
      },
      "source": [
        "<a href=\"https://colab.research.google.com/github/VanTrung2000/demokieulist/blob/main/Baitaplist.ipynb\" target=\"_parent\"><img src=\"https://colab.research.google.com/assets/colab-badge.svg\" alt=\"Open In Colab\"/></a>"
      ]
    },
    {
      "cell_type": "markdown",
      "metadata": {
        "id": "p1SC0QQ3ZGHm"
      },
      "source": [
        "Tạo một biến x kiểu List rỗng"
      ]
    },
    {
      "cell_type": "code",
      "metadata": {
        "id": "F3JUGcLrWCL1"
      },
      "source": [
        "x=[]"
      ],
      "execution_count": 32,
      "outputs": []
    },
    {
      "cell_type": "markdown",
      "metadata": {
        "id": "InDjOIH6ZRDB"
      },
      "source": [
        "Thêm giá trị 18 vào x"
      ]
    },
    {
      "cell_type": "code",
      "metadata": {
        "id": "f2_tCfDjZTyo"
      },
      "source": [
        "x.append(\"18\")"
      ],
      "execution_count": 33,
      "outputs": []
    },
    {
      "cell_type": "markdown",
      "metadata": {
        "id": "KVgUv23vZgQ5"
      },
      "source": [
        "Thêm giá trị \"Huế\" vào x"
      ]
    },
    {
      "cell_type": "code",
      "metadata": {
        "id": "KFVcNs-TZiXc"
      },
      "source": [
        "x.append(\"Hue\")"
      ],
      "execution_count": 34,
      "outputs": []
    },
    {
      "cell_type": "markdown",
      "metadata": {
        "id": "poQ4-ZRuZmMA"
      },
      "source": [
        "Tạo 1 List  y = [12, 45, -1, -0.56, \"abc\"]"
      ]
    },
    {
      "cell_type": "code",
      "metadata": {
        "id": "4qn6GfV7ZpmD"
      },
      "source": [
        "y = [12, 45, -1, -0.56, \"abc\"]"
      ],
      "execution_count": 35,
      "outputs": []
    },
    {
      "cell_type": "markdown",
      "metadata": {
        "id": "Po_lOoDcZtdW"
      },
      "source": [
        "Thêm y vào x"
      ]
    },
    {
      "cell_type": "code",
      "metadata": {
        "id": "YU8gpV8GZ0ev"
      },
      "source": [
        "x.extend(y)"
      ],
      "execution_count": 36,
      "outputs": []
    },
    {
      "cell_type": "markdown",
      "metadata": {
        "id": "B6GP1jvAZ64V"
      },
      "source": [
        "Xuất giá trị của x ra màn hình"
      ]
    },
    {
      "cell_type": "code",
      "metadata": {
        "colab": {
          "base_uri": "https://localhost:8080/"
        },
        "id": "FHT5iqYCZ6I9",
        "outputId": "a03ce68a-87aa-4a0b-93bc-5d82e6d23972"
      },
      "source": [
        "print(x)"
      ],
      "execution_count": 39,
      "outputs": [
        {
          "output_type": "stream",
          "text": [
            "['18', 'Hue', 12, 45, -1, -0.56, 'abc']\n"
          ],
          "name": "stdout"
        }
      ]
    },
    {
      "cell_type": "markdown",
      "metadata": {
        "id": "uD-ImboCaJdc"
      },
      "source": [
        "In ra màn hình giá trị của phần tử cuối cùng và phần tử đầu tiên của x"
      ]
    },
    {
      "cell_type": "code",
      "metadata": {
        "colab": {
          "base_uri": "https://localhost:8080/"
        },
        "id": "bUKSJ8iJaKak",
        "outputId": "5de3103d-abe3-4b6f-b668-4ceec769721e"
      },
      "source": [
        "print(x[-1], '--', x[0])"
      ],
      "execution_count": 46,
      "outputs": [
        {
          "output_type": "stream",
          "text": [
            "abc -- 18\n"
          ],
          "name": "stdout"
        }
      ]
    },
    {
      "cell_type": "markdown",
      "metadata": {
        "id": "I1HzkpGwaLW4"
      },
      "source": [
        "In ra màn hình giá trị của phần tử đầu tiên đến phần tử thứ 5 của x"
      ]
    },
    {
      "cell_type": "code",
      "metadata": {
        "colab": {
          "base_uri": "https://localhost:8080/"
        },
        "id": "JDXfBTV0aNpF",
        "outputId": "9e7de4b3-fffe-4f9f-c95b-b57cc8507d1b"
      },
      "source": [
        "print(x[:5])"
      ],
      "execution_count": 47,
      "outputs": [
        {
          "output_type": "stream",
          "text": [
            "['18', 'Hue', 12, 45, -1]\n"
          ],
          "name": "stdout"
        }
      ]
    },
    {
      "cell_type": "markdown",
      "metadata": {
        "id": "kkgce39kkpot"
      },
      "source": [
        "In ra màn hình giá trị của phần từ thứ 3 đến cuối cùng của x"
      ]
    },
    {
      "cell_type": "code",
      "metadata": {
        "colab": {
          "base_uri": "https://localhost:8080/"
        },
        "id": "OgxXFOAakowc",
        "outputId": "21b5d055-f577-49dc-a278-46c47a8cd942"
      },
      "source": [
        "print(x[3:])"
      ],
      "execution_count": 48,
      "outputs": [
        {
          "output_type": "stream",
          "text": [
            "[45, -1, -0.56, 'abc']\n"
          ],
          "name": "stdout"
        }
      ]
    }
  ]
}